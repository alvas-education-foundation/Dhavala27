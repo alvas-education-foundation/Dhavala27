{
  "nbformat": 4,
  "nbformat_minor": 0,
  "metadata": {
    "colab": {
      "name": " Day 4 Session 1",
      "provenance": [],
      "collapsed_sections": [],
      "authorship_tag": "ABX9TyNtgmEe2sm+6hlBiTWnu1lj",
      "include_colab_link": true
    },
    "kernelspec": {
      "name": "python3",
      "display_name": "Python 3"
    }
  },
  "cells": [
    {
      "cell_type": "markdown",
      "metadata": {
        "id": "view-in-github",
        "colab_type": "text"
      },
      "source": [
        "<a href=\"https://colab.research.google.com/github/alvas-education-foundation/Dhavala27/blob/master/Day_4_Session_1.ipynb\" target=\"_parent\"><img src=\"https://colab.research.google.com/assets/colab-badge.svg\" alt=\"Open In Colab\"/></a>"
      ]
    },
    {
      "cell_type": "code",
      "metadata": {
        "id": "X4ngz20fLW-P",
        "colab_type": "code",
        "colab": {}
      },
      "source": [
        ""
      ],
      "execution_count": null,
      "outputs": []
    },
    {
      "cell_type": "markdown",
      "metadata": {
        "id": "Ry1R6SVgLrJg",
        "colab_type": "text"
      },
      "source": [
        "#Pythonic workshop Day 4 Session 1.ipynb - Colaboratory"
      ]
    },
    {
      "cell_type": "code",
      "metadata": {
        "id": "CDY6ofw-Ls4P",
        "colab_type": "code",
        "colab": {
          "base_uri": "https://localhost:8080/",
          "height": 35
        },
        "outputId": "a612b90f-fdc5-41ab-b552-526c1d1440e8"
      },
      "source": [
        "#The following code is harmful\n",
        "#Writing Pythonic code\n",
        "\n",
        "result_list = ['True', 'False', 'File not found']\n",
        "result_string = ''\n",
        "for result in result_list:\n",
        "  result_string += result\n",
        "result_string\n"
      ],
      "execution_count": 1,
      "outputs": [
        {
          "output_type": "execute_result",
          "data": {
            "application/vnd.google.colaboratory.intrinsic+json": {
              "type": "string"
            },
            "text/plain": [
              "'TrueFalseFile not found'"
            ]
          },
          "metadata": {
            "tags": []
          },
          "execution_count": 1
        }
      ]
    },
    {
      "cell_type": "code",
      "metadata": {
        "id": "ZHlQzoLXL3wN",
        "colab_type": "code",
        "colab": {
          "base_uri": "https://localhost:8080/",
          "height": 35
        },
        "outputId": "87bf6e85-7d08-491a-d648-a73ec2230ae5"
      },
      "source": [
        "#The following code is idiomatic\n",
        "#without using for loop using join function as per PEP 8 rule\n",
        "\n",
        "result_list = ['True', 'False', 'File not found']\n",
        "result_string = ''.join(result_list)\n",
        "result_string\n"
      ],
      "execution_count": 2,
      "outputs": [
        {
          "output_type": "execute_result",
          "data": {
            "application/vnd.google.colaboratory.intrinsic+json": {
              "type": "string"
            },
            "text/plain": [
              "'TrueFalseFile not found'"
            ]
          },
          "metadata": {
            "tags": []
          },
          "execution_count": 2
        }
      ]
    },
    {
      "cell_type": "code",
      "metadata": {
        "id": "NIwJNXjHL_8F",
        "colab_type": "code",
        "colab": {
          "base_uri": "https://localhost:8080/",
          "height": 35
        },
        "outputId": "f4513357-16b1-42cc-f21c-74b77047bb3f"
      },
      "source": [
        "#The following code is harmful\n",
        "#Chain string functions\n",
        "book_info = ' The Three Musketeers: Alexandre Dumas'\n",
        "formatted_book_info = book_info.strip()\n",
        "formatted_book_info = formatted_book_info.upper()\n",
        "formatted_book_info = formatted_book_info.replace(':', ' by')\n",
        "formatted_book_info\n"
      ],
      "execution_count": 3,
      "outputs": [
        {
          "output_type": "execute_result",
          "data": {
            "application/vnd.google.colaboratory.intrinsic+json": {
              "type": "string"
            },
            "text/plain": [
              "'THE THREE MUSKETEERS by ALEXANDRE DUMAS'"
            ]
          },
          "metadata": {
            "tags": []
          },
          "execution_count": 3
        }
      ]
    },
    {
      "cell_type": "code",
      "metadata": {
        "id": "PNCzru1BMLvV",
        "colab_type": "code",
        "colab": {
          "base_uri": "https://localhost:8080/",
          "height": 35
        },
        "outputId": "994a5073-bd66-406d-ce0d-29be71a76ec3"
      },
      "source": [
        "#The following code is idiomatic\n",
        "\n",
        "book_info = ' The Three Musketeers: Alexandre Dumas'\n",
        "formatted_book_info = book_info.strip().upper().replace(':', ' by')\n",
        "formatted_book_info\n"
      ],
      "execution_count": 4,
      "outputs": [
        {
          "output_type": "execute_result",
          "data": {
            "application/vnd.google.colaboratory.intrinsic+json": {
              "type": "string"
            },
            "text/plain": [
              "'THE THREE MUSKETEERS by ALEXANDRE DUMAS'"
            ]
          },
          "metadata": {
            "tags": []
          },
          "execution_count": 4
        }
      ]
    },
    {
      "cell_type": "code",
      "metadata": {
        "id": "MIP00h3lMRJ9",
        "colab_type": "code",
        "colab": {
          "base_uri": "https://localhost:8080/",
          "height": 35
        },
        "outputId": "9eb9a049-54dc-456b-ac9f-23f78d21717e"
      },
      "source": [
        "#Removing Duplicates from a List\n",
        "#Updated List after removing duplicates = [1, 2, 3, 4]\n",
        "ints_list = [1, 2, 3, 4, 3, 2]\n",
        "temp = []\n",
        "for x in ints_list:\n",
        "    if x not in temp:\n",
        "        temp.append(x)\n",
        "ints_list = temp\n",
        "print(f'Updated List after removing duplicates = {temp}')\n"
      ],
      "execution_count": 6,
      "outputs": [
        {
          "output_type": "stream",
          "text": [
            "Updated List after removing duplicates = [1, 2, 3, 4]\n"
          ],
          "name": "stdout"
        }
      ]
    },
    {
      "cell_type": "code",
      "metadata": {
        "id": "5DRmebTgMYY1",
        "colab_type": "code",
        "colab": {}
      },
      "source": [
        "#The following code is idiomatic using set()\n",
        "ints_list = [1, 2, 3, 4, 3, 2]\n",
        "ints_list1 = list(set(ints_list))\n",
        "print(i t li t1) # [1 2 3 4]\n",
        "[1, 2, 3, 4]\n",
        "print(ints_list1)  # [1, 2, 3, 4]"
      ],
      "execution_count": null,
      "outputs": []
    },
    {
      "cell_type": "code",
      "metadata": {
        "id": "Gn8nCE66Mq4N",
        "colab_type": "code",
        "colab": {}
      },
      "source": [
        ""
      ],
      "execution_count": null,
      "outputs": []
    },
    {
      "cell_type": "markdown",
      "metadata": {
        "id": "2g6SsMLhMrRN",
        "colab_type": "text"
      },
      "source": [
        "#some of the important functions in Python\n"
      ]
    },
    {
      "cell_type": "code",
      "metadata": {
        "id": "2reC7AcTMtCF",
        "colab_type": "code",
        "colab": {}
      },
      "source": [
        "#The purpose of zip() is to map the similar index of multiple containers so that they can be used just using as single entity.\n",
        "zip() in Python\n",
        "name = [ \"Manjeet\", \"Nikhil\", \"Shambhavi\", \"Astha\" ] \n",
        "roll_no = [ 4, 1, 3, 2 ] \n",
        "marks = [ 40, 50, 60, 70 ] \n",
        "  \n",
        "# using zip() to map values \n",
        "mapped = zip(name, roll_no, marks) \n",
        "  \n",
        "# converting values to print as set \n",
        "mapped = set(mapped) \n",
        "  \n",
        "# printing resultant values  \n",
        "print (\"The zipped result is : \",end=\"\") \n",
        "print (mapped) \n"
      ],
      "execution_count": null,
      "outputs": []
    },
    {
      "cell_type": "code",
      "metadata": {
        "id": "jsxOqeEEM85N",
        "colab_type": "code",
        "colab": {}
      },
      "source": [
        "#How to unzip?\n",
        "name,rollno,marks=zip(*mapped)\n",
        "print(name,rollno,marks)\n"
      ],
      "execution_count": null,
      "outputs": []
    },
    {
      "cell_type": "code",
      "metadata": {
        "id": "qaED5z8dNDPF",
        "colab_type": "code",
        "colab": {
          "base_uri": "https://localhost:8080/",
          "height": 35
        },
        "outputId": "035bf789-0f7c-4e15-c821-dd301d0cea49"
      },
      "source": [
        "# is used t calls the specied function for each item of an iterable (such as string, list, tuple or dictionary) and returns a list of results.\n",
        "#Map() function with lamda in Python\n",
        "[1, 4, 9, 16, 25]\n",
        "[1, 4, 9, 16]\n",
        "def square(x):\n",
        "    return x*x\n",
        "numbers=[1, 2, 3, 4, 5]\n",
        "sqrList=map(square, numbers)\n",
        "print(list(sqrList))\n",
        "# use lamda function to have direct values\n",
        "sqrList1 = map(lambda x: x*x, [1, 2, 3, 4])\n"
      ],
      "execution_count": 14,
      "outputs": [
        {
          "output_type": "stream",
          "text": [
            "[1, 4, 9, 16, 25]\n"
          ],
          "name": "stdout"
        }
      ]
    },
    {
      "cell_type": "code",
      "metadata": {
        "id": "4DL24SuYNK4V",
        "colab_type": "code",
        "colab": {
          "base_uri": "https://localhost:8080/",
          "height": 72
        },
        "outputId": "8dd88914-7e13-42c0-f78b-593f7bce3004"
      },
      "source": [
        "#Program for exchanging rst and last characters of a string using function\n",
        "#Slicing operations in string\n",
        "def change(string):\n",
        "      return string[-1] + string[1:-1] + string[0]\n",
        "string=input(\"Enter string:\")\n",
        "print(\"Modified string:\",change(string))\n",
        "print('original string :',string)\n"
      ],
      "execution_count": 16,
      "outputs": [
        {
          "output_type": "stream",
          "text": [
            "Enter string:abcd\n",
            "Modified string: dbca\n",
            "original string : abcd\n"
          ],
          "name": "stdout"
        }
      ]
    },
    {
      "cell_type": "code",
      "metadata": {
        "id": "4X7f89hNNXq2",
        "colab_type": "code",
        "colab": {}
      },
      "source": [
        "#Removing one character from a string\n",
        "\n",
        "      first = string[:n]   \n",
        "      last = string[n+1:]  \n",
        "      return first + last\n",
        "string=input(\"Enter the sring:\")\n",
        "n=int(input(\"Enter the index of the character to remove:\"))\n",
        "print(\"Modified string:\")\n",
        "def remove(string, n):  \n"
      ],
      "execution_count": null,
      "outputs": []
    },
    {
      "cell_type": "code",
      "metadata": {
        "id": "GhS4s4cUNgaq",
        "colab_type": "code",
        "colab": {
          "base_uri": "https://localhost:8080/",
          "height": 90
        },
        "outputId": "0a99a607-9452-49f7-c894-21ce5ce46fc3"
      },
      "source": [
        "#Sorting in Python using function\n",
        "def myFunc(e):\n",
        "  return len(e)\n",
        "#myfunc=lambda x : len(x)\n",
        "cars = ['Ford', 'Mitsubishi', 'BMW', 'VW']\n",
        "cars.sort(key=myFunc)\n",
        "print(cars)\n",
        "def myFunc(e):\n",
        "  return e[1]\n",
        "cars = [(1,'Ford'), (2,'Mitsubishi'), (3,'BMW'), (4,'VW')]\n",
        "cars.sort(key=myFunc)\n",
        "print(cars)\n",
        "cars.sort(key=myFunc,reverse=True)\n",
        "print(cars)\n",
        "cars.sort(key=myFunc,reverse=True)\n",
        "print(cars)\n"
      ],
      "execution_count": 19,
      "outputs": [
        {
          "output_type": "stream",
          "text": [
            "['VW', 'BMW', 'Ford', 'Mitsubishi']\n",
            "[(3, 'BMW'), (1, 'Ford'), (2, 'Mitsubishi'), (4, 'VW')]\n",
            "[(4, 'VW'), (2, 'Mitsubishi'), (1, 'Ford'), (3, 'BMW')]\n",
            "[(4, 'VW'), (2, 'Mitsubishi'), (1, 'Ford'), (3, 'BMW')]\n"
          ],
          "name": "stdout"
        }
      ]
    },
    {
      "cell_type": "code",
      "metadata": {
        "id": "kIZ3426MNolx",
        "colab_type": "code",
        "colab": {}
      },
      "source": [
        "#itertools groupby\n",
        "from itertools import groupby\n",
        "things = [(\"animal\", \"bear\"), (\"animal\", \"duck\"), \n",
        "for key, group in groupby(things, lambda x: x[0]):\n",
        "    for thing in group:\n",
        "      print (\"A %s is a %s.\"%(thing[1], key))"
      ],
      "execution_count": null,
      "outputs": []
    },
    {
      "cell_type": "code",
      "metadata": {
        "id": "GzpI1DNANx1l",
        "colab_type": "code",
        "colab": {
          "base_uri": "https://localhost:8080/",
          "height": 35
        },
        "outputId": "ab7e4d60-ae43-476b-d609-97b10437efed"
      },
      "source": [
        "#Combinations Of string \"SADIK\" OF SIZE 3. A school bus is a vehicle.\n",
        "\n",
        "from itertools import combinations \n",
        "  \n",
        "letters =\"SADIK\"\n",
        "  \n",
        "# size of combination is set to 3 \n",
        "a = combinations(letters, 3)  \n",
        "y = [' '.join(i) for i in a]  \n",
        "print(y) "
      ],
      "execution_count": 22,
      "outputs": [
        {
          "output_type": "stream",
          "text": [
            "['S A D', 'S A I', 'S A K', 'S D I', 'S D K', 'S I K', 'A D I', 'A D K', 'A I K', 'D I K']\n"
          ],
          "name": "stdout"
        }
      ]
    },
    {
      "cell_type": "code",
      "metadata": {
        "id": "7YobfD0IN418",
        "colab_type": "code",
        "colab": {
          "base_uri": "https://localhost:8080/",
          "height": 55
        },
        "outputId": "2bc8b107-85e0-49e5-a4ee-893b4dca5212"
      },
      "source": [
        "#Permutations Of string \"SADIK\" OF SIZE 3.\n",
        "from itertools import permutations \n",
        "  \n",
        "letters =\"SADIK\"\n",
        "  \n",
        "# size of permutaion is set to 3 \n",
        "a = permutations(letters, 3)  \n",
        "y = [' '.join(i) for i in a]  \n",
        "print(y) "
      ],
      "execution_count": 23,
      "outputs": [
        {
          "output_type": "stream",
          "text": [
            "['S A D', 'S A I', 'S A K', 'S D A', 'S D I', 'S D K', 'S I A', 'S I D', 'S I K', 'S K A', 'S K D', 'S K I', 'A S D', 'A S I', 'A S K', 'A D S', 'A D I', 'A D K', 'A I S', 'A I D', 'A I K', 'A K S', 'A K D', 'A K I', 'D S A', 'D S I', 'D S K', 'D A S', 'D A I', 'D A K', 'D I S', 'D I A', 'D I K', 'D K S', 'D K A', 'D K I', 'I S A', 'I S D', 'I S K', 'I A S', 'I A D', 'I A K', 'I D S', 'I D A', 'I D K', 'I K S', 'I K A', 'I K D', 'K S A', 'K S D', 'K S I', 'K A S', 'K A D', 'K A I', 'K D S', 'K D A', 'K D I', 'K I S', 'K I A', 'K I D']\n"
          ],
          "name": "stdout"
        }
      ]
    },
    {
      "cell_type": "code",
      "metadata": {
        "id": "S4uMEVjjN-Vc",
        "colab_type": "code",
        "colab": {
          "base_uri": "https://localhost:8080/",
          "height": 108
        },
        "outputId": "cecf7179-92b3-40e0-d3d9-5b1f5c1cb01a"
      },
      "source": [
        "#Accumulate()\n",
        "\n",
        "# import the itertool module  \n",
        "# to work with it \n",
        "import itertools \n",
        "  \n",
        "# import operator to work  \n",
        "# with operator \n",
        "import operator \n",
        "  \n",
        "# creating a list GFG \n",
        "GFG = [1, 2, 3, 4, 5] \n",
        "  \n",
        "# using the itertools.accumulate()  \n",
        "result = itertools.accumulate(GFG,  \n",
        "                              operator.mul) \n",
        "  \n",
        "# printing each item from list \n",
        "for each in result: \n",
        "    print(each) "
      ],
      "execution_count": 24,
      "outputs": [
        {
          "output_type": "stream",
          "text": [
            "1\n",
            "2\n",
            "6\n",
            "24\n",
            "120\n"
          ],
          "name": "stdout"
        }
      ]
    },
    {
      "cell_type": "code",
      "metadata": {
        "id": "ZRrkYZPrOEE8",
        "colab_type": "code",
        "colab": {
          "base_uri": "https://localhost:8080/",
          "height": 54
        },
        "outputId": "a38451df-135b-4611-8220-850276cf6ab3"
      },
      "source": [
        "#Swaping by ^(Exclusive or)\n",
        "a=5\n",
        "b=4\n",
        "a=a^b\n",
        "b=a^b\n",
        "a=a^b\n",
        "print(a)\n",
        "print(b)\n"
      ],
      "execution_count": 25,
      "outputs": [
        {
          "output_type": "stream",
          "text": [
            "4\n",
            "5\n"
          ],
          "name": "stdout"
        }
      ]
    }
  ]
}